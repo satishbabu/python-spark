{
 "cells": [
  {
   "cell_type": "markdown",
   "metadata": {},
   "source": [
    "# Lets Check out few SQL"
   ]
  },
  {
   "cell_type": "code",
   "execution_count": 1,
   "metadata": {},
   "outputs": [],
   "source": [
    "from pyspark.sql import SparkSession"
   ]
  },
  {
   "cell_type": "code",
   "execution_count": 2,
   "metadata": {},
   "outputs": [],
   "source": [
    "spark = SparkSession.builder.appName('CsvApp').getOrCreate()"
   ]
  },
  {
   "cell_type": "markdown",
   "metadata": {},
   "source": [
    "### Read a real word CSV. I downloaded the real estate properties on Cary open data forum and truncated it to first 100 rows"
   ]
  },
  {
   "cell_type": "code",
   "execution_count": 6,
   "metadata": {},
   "outputs": [],
   "source": [
    "# should try using the curl to down the file instead of browser\n",
    "df = spark.read.csv('cary_commercial_property_100_rows.csv', header=True, sep=';') "
   ]
  },
  {
   "cell_type": "code",
   "execution_count": 7,
   "metadata": {},
   "outputs": [
    {
     "name": "stdout",
     "output_type": "stream",
     "text": [
      "root\n",
      " |-- PIN: string (nullable = true)\n",
      " |-- PIN10: string (nullable = true)\n",
      " |-- Realid: string (nullable = true)\n",
      " |-- Owner: string (nullable = true)\n",
      " |-- Owner2: string (nullable = true)\n",
      " |-- OwnerAdd1: string (nullable = true)\n",
      " |-- OwnerAdd2: string (nullable = true)\n",
      " |-- OwnerAdd3: string (nullable = true)\n",
      " |-- Location: string (nullable = true)\n",
      " |-- CalcAcreage: string (nullable = true)\n",
      " |-- DeedAcres: string (nullable = true)\n",
      " |-- StreetNumber: string (nullable = true)\n",
      " |-- StreetMisc: string (nullable = true)\n",
      " |-- StreetPrefix: string (nullable = true)\n",
      " |-- StreetName: string (nullable = true)\n",
      " |-- StreetType: string (nullable = true)\n",
      " |-- StreetSuffix: string (nullable = true)\n",
      " |-- LandClass: string (nullable = true)\n",
      " |-- Lclass: string (nullable = true)\n",
      " |-- TotalStructures: string (nullable = true)\n",
      " |-- TotalUnits: string (nullable = true)\n",
      " |-- PropertyDesc: string (nullable = true)\n",
      " |-- LotNum: string (nullable = true)\n",
      " |-- BldgValue: string (nullable = true)\n",
      " |-- LandValue: string (nullable = true)\n",
      " |-- LandSaleValue: string (nullable = true)\n",
      " |-- LandSaleDate: string (nullable = true)\n",
      " |-- TotalSaleValue: string (nullable = true)\n",
      " |-- TotalSaleDate: string (nullable = true)\n",
      " |-- DeedBook: string (nullable = true)\n",
      " |-- DeedPage: string (nullable = true)\n",
      " |-- WC_City: string (nullable = true)\n",
      " |-- Cary_City: string (nullable = true)\n",
      " |-- WC_Etj: string (nullable = true)\n",
      " |-- Topography: string (nullable = true)\n",
      " |-- Township: string (nullable = true)\n",
      " |-- Ownership: string (nullable = true)\n",
      " |-- Activity: string (nullable = true)\n",
      " |-- Function: string (nullable = true)\n",
      " |-- Structure: string (nullable = true)\n",
      " |-- Site: string (nullable = true)\n",
      " |-- WC_Zoning: string (nullable = true)\n",
      " |-- BillingClass: string (nullable = true)\n",
      " |-- APAOwnershipDesc: string (nullable = true)\n",
      " |-- APAActivityDesc: string (nullable = true)\n",
      " |-- APAFunctionDesc: string (nullable = true)\n",
      " |-- APAStructureDesc: string (nullable = true)\n",
      " |-- APASiteDesc: string (nullable = true)\n",
      " |-- County: string (nullable = true)\n",
      " |-- TotalBldgSqFt: string (nullable = true)\n",
      " |-- Typeanduse: string (nullable = true)\n",
      " |-- Typedecode: string (nullable = true)\n",
      " |-- PhyCity: string (nullable = true)\n",
      " |-- PhyZip: string (nullable = true)\n",
      " |-- Utilities: string (nullable = true)\n",
      " |-- OwnerWholeName: string (nullable = true)\n",
      " |-- Real Estate Info: string (nullable = true)\n",
      " |-- Deed Info: string (nullable = true)\n",
      " |-- Year Built: string (nullable = true)\n",
      " |-- Shape.STArea(): string (nullable = true)\n",
      " |-- Shape.STLength(): string (nullable = true)\n",
      " |-- geo_shape: string (nullable = true)\n",
      " |-- geo_point_2d: string (nullable = true)\n",
      "\n"
     ]
    }
   ],
   "source": [
    "df.printSchema()"
   ]
  },
  {
   "cell_type": "code",
   "execution_count": 8,
   "metadata": {},
   "outputs": [
    {
     "name": "stdout",
     "output_type": "stream",
     "text": [
      "+------------+----------+-------+--------------------+--------------------+--------------------+--------------------+--------------------+--------------------+--------------------+--------------------+------------+----------+------------+------------+----------+------------+----------+------+---------------+----------+--------------------+------+---------+---------+-------------+--------------------+--------------+--------------------+--------+--------+-------+---------+------+----------+--------+---------+--------+--------+---------+------+---------+------------+--------------------+--------------------+--------------------+--------------------+-------------------+------+-------------+----------+----------+-------------+------+---------+--------------------+--------------------+--------------------+----------+------------------+------------------+--------------------+--------------------+\n",
      "|         PIN|     PIN10| Realid|               Owner|              Owner2|           OwnerAdd1|           OwnerAdd2|           OwnerAdd3|            Location|         CalcAcreage|           DeedAcres|StreetNumber|StreetMisc|StreetPrefix|  StreetName|StreetType|StreetSuffix| LandClass|Lclass|TotalStructures|TotalUnits|        PropertyDesc|LotNum|BldgValue|LandValue|LandSaleValue|        LandSaleDate|TotalSaleValue|       TotalSaleDate|DeedBook|DeedPage|WC_City|Cary_City|WC_Etj|Topography|Township|Ownership|Activity|Function|Structure|  Site|WC_Zoning|BillingClass|    APAOwnershipDesc|     APAActivityDesc|     APAFunctionDesc|    APAStructureDesc|        APASiteDesc|County|TotalBldgSqFt|Typeanduse|Typedecode|      PhyCity|PhyZip|Utilities|      OwnerWholeName|    Real Estate Info|           Deed Info|Year Built|    Shape.STArea()|  Shape.STLength()|           geo_shape|        geo_point_2d|\n",
      "+------------+----------+-------+--------------------+--------------------+--------------------+--------------------+--------------------+--------------------+--------------------+--------------------+------------+----------+------------+------------+----------+------------+----------+------+---------------+----------+--------------------+------+---------+---------+-------------+--------------------+--------------+--------------------+--------+--------+-------+---------+------+----------+--------+---------+--------+--------+---------+------+---------+------------+--------------------+--------------------+--------------------+--------------------+-------------------+------+-------------+----------+----------+-------------+------+---------+--------------------+--------------------+--------------------+----------+------------------+------------------+--------------------+--------------------+\n",
      "|079506475963|0795475963|0001130|HILLCREST RALEIGH...|                null| 1417 W PETTIGREW ST|DURHAM NC 27705-4820|                null|  3830 BLUE RIDGE RD|          6.03755295|   6.019999999999999|        3830|      null|        null|  BLUE RIDGE|        RD|        null|Commercial|     C|              3|       134|GLENWOOD HILLS NU...|  null|4872534.0|1204000.0|          0.0|                null|    15500000.0|2015-07-07T22:00:...|  016078|   02084|    RAL|     null|    RA|      null|      Me|   1020.0|  1300.0|  1250.0|   1340.0|6200.0|      R-6|        null|         Corporation|Institutional Living|Skilled-Nursing S...|Single Room Occup...|Commercial Property|  Wake|      52948.0|        74|  NURSG HM|      RALEIGH| 27612|      ALL|HILLCREST RALEIGH...|http://services.w...|http://services.w...|      null| 262995.8494873047| 2118.453247426427|\"{\"\"type\"\": \"\"Pol...|35.8320260789,-78...|\n",
      "|079417006682|0794006682|0001241|HSF RALEIGH INVES...|C/O CIRCLE K STOR...|ATTN: PROP TAX DC 17|        PO BOX 52085|PHOENIX AZ 85072-...|   4100 WESTERN BLVD|  0.8890456399999991|  0.8599999999999991|        4100|      null|        null|     WESTERN|      BLVD|        null|Commercial|     C|              1|         0|      LO10 BLVD PARK|    10| 550714.0| 748491.0|          0.0|                null|     1471000.0|2007-01-25T20:00:...|  012374|   00889|    RAL|     null|    RA|      null|      Ra|   1020.0|  2110.0|  2152.0|   2591.0|6200.0|     NX-3|        null|         Corporation|Goods-Oriented Sh...|   Convenience Store|Convenience Store...|Commercial Property|  Wake|       2988.0|        46|  FOODMART|      RALEIGH| 27606|      ALL|HSF RALEIGH INVES...|http://services.w...|http://services.w...|      null|38726.853271484375| 787.8776570225277|\"{\"\"type\"\": \"\"Pol...|35.7845832255,-78...|\n",
      "|078417014834|0784014834|0002148|CONTECH CONSTRUCT...|                null|      TAX DEPARTMENT|5 CONCOURSE PKWY ...|ATLANTA GA 30328-...| 6115 CHAPEL HILL RD|          9.92438999|   9.919999999999998|        6115|      null|        null| CHAPEL HILL|        RD|        null|Commercial|     C|              2|         0|  EDITH TEMPLETON LD|  null| 476754.0|2178696.0|          0.0|                null|      595000.0|1986-07-30T22:00:...|  003788|   00515|    RAL|     null|    RA|      null|      Me|   1020.0|  3110.0|  3400.0|   2610.0|6200.0|     IX-3|        null|         Corporation|Primarily Plant O...|Miscellaneous Man...|Light Industrial ...|Commercial Property|  Wake|      43080.0|        79|  LT MANUF|      RALEIGH| 27607|      ALL|CONTECH CONSTRUCT...|http://services.w...|http://services.w...|      null| 432306.5439453125|2746.3375212587507|\"{\"\"type\"\": \"\"Pol...|35.7880294157,-78...|\n",
      "|079002796113|0790796113|0002340|    ARVIN, JAMES LEE|                null|7600 LAKE WHEELER RD|RALEIGH NC 27603-...|                null|5839 FAYETTEVILLE RD|          1.05965463|                 1.0|        5839|      null|        null|FAYETTEVILLE|        RD|        null|Commercial|     C|              2|         2|KINDEL LD & HOUSE...|  null| 122452.0| 149080.0|          0.0|                null|           0.0|                null|    07-E|   07-E-|   null|     null|    WC|      null|      St|   1010.0|  2100.0|  2100.0|   2230.0|6200.0|       HD|        null|Individual Ownership|            Shopping|Retail Sales Or S...|Standalone Store ...|Commercial Property|  Wake|       2468.0|        47|  SNGL TEN|      RALEIGH| 27603|      WSE|     JAMES LEE ARVIN|http://services.w...|http://services.w...|      null|      36204.921875| 798.1636411246435|\"{\"\"type\"\": \"\"Pol...|35.6980142374,-78...|\n",
      "|065612974332|0656974332|0002443|    T R ASHWORTH INC|                null|       120 S MAIN ST|FUQUAY VARINA NC ...|                null|       124 S MAIN ST|          0.10162623|                0.11|         124|      null|           S|        MAIN|        ST|        null|Commercial|     C|              1|         0|                 LO1|     1| 129137.0|  28896.0|          0.0|                null|           0.0|                null|  005523|   00314|    FUQ|     null|    FV|      null|      Mi|   1020.0|  2100.0|  2100.0|   2200.0|6200.0|     DC-1|        null|         Corporation|            Shopping|Retail Sales Or S...|Store Or Shop Bui...|Commercial Property|  Wake|       6256.0|        48|  MULT TEN|FUQUAY VARINA| 27526|      ALL|    T R ASHWORTH INC|http://services.w...|http://services.w...|      null|4426.8306884765625| 289.2392760645296|\"{\"\"type\"\": \"\"Pol...|35.5834058138,-78...|\n",
      "|079517016519|0795016519|0002462|SAMPSON BLADEN OI...|                null|          PO BOX 469|CLINTON NC 28329-...|                null|      3309 DRAKE CIR|          0.31664922| 0.29999999999999905|        3309|      null|        null|       DRAKE|       CIR|        null|Commercial|     C|              1|         0|LO4 PORTION MERED...|     4| 185368.0| 130811.0|          0.0|                null|      513000.0|1999-09-07T22:00:...|  013305|   02467|    RAL|     null|    RA|      null|      Me|   1020.0|  2300.0|  2421.0|   2100.0|6200.0|     OX-3|        null|         Corporation|   Office Activities|Office And Admini...|Office Or Bank Bu...|Commercial Property|  Wake|       4440.0|        34| OFC GROSS|      RALEIGH| 27607|      ALL|SAMPSON BLADEN OI...|http://services.w...|http://services.w...|      null|13793.247192382812|500.50232572477347|\"{\"\"type\"\": \"\"Pol...|35.8147349802,-78...|\n",
      "|065612964937|0656964937|0002424|  ASHWORTH HEIRS LLC|                null|      646 AIKEN PKWY|FUQUAY VARINA NC ...|                null|       210 S MAIN ST|          0.14258692|                0.14|         210|      null|           S|        MAIN|        ST|        null|Commercial|     C|              1|         0|         LO1 MAIN ST|     1| 292954.0|  36771.0|          0.0|                null|           0.0|                null|  011938|   01395|    FUQ|     null|    FV|      null|      Mi|   1020.0|  2100.0|  2100.0|   2230.0|6200.0|     DC-1|        null|         Corporation|            Shopping|Retail Sales Or S...|Standalone Store ...|Commercial Property|  Wake|       6830.0|        47|  SNGL TEN|FUQUAY VARINA| 27526|      ALL|  ASHWORTH HEIRS LLC|http://services.w...|http://services.w...|      null|   6211.0966796875| 366.2596585675164|\"{\"\"type\"\": \"\"Pol...|35.5824518741,-78...|\n",
      "|065612974063|0656974063|0002695|JEFFRIES PROPERTY...|                null|     205 HIGHLAND DR|ANGIER NC 27501-7903|                null|       206 S MAIN ST|          0.04573184|0.059999999999999006|         206|      null|           S|        MAIN|        ST|        null|Commercial|     C|              1|         0|   LO1 MAIN ST & IMP|     1|  84062.0|  15762.0|          0.0|                null|       75000.0|1997-01-27T20:00:...|  008026|   00559|    FUQ|     null|    FV|      null|      Mi|   1020.0|  2100.0|  2100.0|   2230.0|6200.0|     DC-1|        null|         Corporation|            Shopping|Retail Sales Or S...|Standalone Store ...|Commercial Property|  Wake|       1872.0|        47|  SNGL TEN|FUQUAY VARINA| 27526|      ALL|JEFFRIES PROPERTY...|http://services.w...|http://services.w...|      null|  1992.07763671875|222.10943974114358|\"{\"\"type\"\": \"\"Pol...|35.5826142715,-78...|\n",
      "|079420812948|0794812948|0002920|    B & F PROPERTIES|                null|         PO BOX 5455|RALEIGH NC 27650-...|                null|2524 HILLSBOROUGH ST|  0.5151983399999991|                0.52|        2524|      null|        null|HILLSBOROUGH|        ST|        null|Commercial|     C|              3|         0|LO11 B & F PROPER...|    11|1950173.0|1359740.0|          0.0|                null|           0.0|                null|  001572|   00396|    RAL|     null|    RA|      null|      Ra|   1020.0|  2110.0|  2124.0|   2251.0|6200.0|     NX-4|        null|         Corporation|Goods-Oriented Sh...|Department Store,...|Discount Store Bu...|Commercial Property|  Wake|      43845.0|        50|  DISC STR|      RALEIGH| 27607|      ALL|    B & F PROPERTIES|http://services.w...|http://services.w...|      null|22442.046997070312| 598.9512096002848|\"{\"\"type\"\": \"\"Pol...|35.788244156,-78....|\n",
      "|066609070439|0666070439|0003482|  STRADER, STEPHEN M|                null|    111 S FUQUAY AVE|FUQUAY VARINA NC ...|                null|    111 S FUQUAY AVE|0.030126389999999004|0.029999999999999003|         111|      null|           S|      FUQUAY|       AVE|        null|Commercial|     C|              1|         0|          LO1 OFFICE|     1|  37462.0|  15736.0|          0.0|                null|       60000.0|2008-05-06T22:00:...|  013087|   01907|    FUQ|     null|    FV|      null|      Mi|   1010.0|  2300.0|  2421.0|   2100.0|6200.0|     DC-1|        null|Individual Ownership|   Office Activities|Office And Admini...|Office Or Bank Bu...|Commercial Property|  Wake|        512.0|        34| OFC GROSS|FUQUAY VARINA| 27526|      ALL|   STEPHEN M STRADER|http://services.w...|http://services.w...|      null|1312.2916259765625|181.80108719578575|\"{\"\"type\"\": \"\"Pol...|35.5838821552,-78...|\n",
      "|079420816864|0794816864|0003924|      SKS PROPERTIES|                null|        PO BOX 19808|RALEIGH NC 27619-...|                null|2414 HILLSBOROUGH ST|          0.30951229|                0.31|        2414|      null|        null|HILLSBOROUGH|        ST|        null|Commercial|     C|              2|         0|LO24 SKS PROPERTI...|    24| 930799.0| 810645.0|          0.0|                null|       90000.0|1971-12-31T20:00:...|  002494|   00595|    RAL|     null|    RA|      null|      Ra|   1020.0|  2130.0|  2100.0|   2400.0|6200.0|     NX-4|        null|         Corporation|  Retail Combination|Retail Sales Or S...|Office Building O...|Commercial Property|  Wake|      16890.0|        58|  STOR/OFC|      RALEIGH| 27607|      ALL|      SKS PROPERTIES|http://services.w...|http://services.w...|      null|13482.356811523438|469.90979418000927|\"{\"\"type\"\": \"\"Pol...|35.7878651191,-78...|\n",
      "|076802759315|0768759315|0003676| LLOYD L NICHOLS LLC|                null|6600 MOUNT HERMAN RD|RALEIGH NC 27617-...|                null|   6600 MT HERMAN RD|          1.17287988|                1.22|        6600|      null|        null|   MT HERMAN|        RD|        null|Commercial|     C|              1|         0|LO3 LLOYD L NICHO...|     3| 537719.0| 159960.0|          0.0|                null|           0.0|                null|  014614|   00864|    RAL|     null|    RA|      null|      Le|   1020.0|  3120.0|  3600.0|   2732.0|6200.0|     IX-3|        null|         Corporation|Primarily Goods S...|Warehouse And Sto...|Prefabricated War...|Commercial Property|  Wake|      11970.0|        82|    PREFAB|      RALEIGH| 27617|      ALL| LLOYD L NICHOLS LLC|http://services.w...|http://services.w...|      null| 51090.61706542969|1085.3717427708013|\"{\"\"type\"\": \"\"Pol...|35.9076852458,-78...|\n",
      "|076418427307|0764427307|0004057|NORTH ACADEMY ASS...|                null|     110 MACKENAN DR|  CARY NC 27511-7901|                null|    315 N ACADEMY ST|   1.179267209999999|   1.179999999999999|         315|      null|           N|     ACADEMY|        ST|        null|Commercial|     C|              1|         0|    315 N ACADEMY ST|  null|1055558.0| 284248.0|          0.0|                null|     1869500.0|2019-02-25T20:00:...|  017369|   00737|    CAR|     null|    CA|      null|      Ca|   1020.0|  2300.0|  2421.0|   2100.0|6200.0|      OIP|        null|         Corporation|   Office Activities|Office And Admini...|Office Or Bank Bu...|Commercial Property|  Wake|      15000.0|        34| OFC GROSS|         CARY| 27513|      ALL|NORTH ACADEMY ASS...|http://services.w...|http://services.w...|      null| 51368.89562988281| 943.1669143519953|\"{\"\"type\"\": \"\"Pol...|35.7895823906,-78...|\n",
      "|075502752748|0755752748|0255776|FIRST CITIZENS BA...|                null|        PO BOX 27131|RALEIGH NC 27611-...|                null|       2205 EVANS RD|          1.35596376|   1.379999999999999|        2205|      null|        null|       EVANS|        RD|        null|Commercial|     C|              1|         0|LO2 TR2B WESTON C...|     2| 626217.0| 800705.0|     655500.0|1999-05-10T22:00:...|           0.0|                null|  008310|   00836|    CAR|     null|    CA|      null|      Ca|   1020.0|  2320.0|  2210.0|   2100.0|6200.0|      GCP|        null|         Corporation|Office Activities...|Bank, Credit Unio...|Office Or Bank Bu...|Commercial Property|  Wake|       3254.0|        11|  BANK BLD|         CARY| 27513|      ALL|FIRST CITIZENS BA...|http://services.w...|http://services.w...|      null|59065.782958984375| 986.3123634385672|\"{\"\"type\"\": \"\"Pol...|35.8264620574,-78...|\n",
      "|075804521624|0758521624|0255782|BROADSTONE SOE RA...|                null|STORR OFFICE ENVI...|10800 WORLD TRADE...|RALEIGH NC 27617-...|10800 WORLD TRADE...|          9.50660661|                 9.5|       10800|      null|        null| WORLD TRADE|      BLVD|        null|Commercial|     C|              1|         0|LO4 WORLD TRADE P...|     4|5173201.0|1405472.0|     712500.0|1999-04-08T22:00:...|    10500000.0|2012-01-12T20:00:...|  014612|   00323|    RAL|     null|    RA|      null|      Ce|   1020.0|  3120.0|  3600.0|   2733.0|6200.0|     IX-3|        null|         Corporation|Primarily Goods S...|Warehouse And Sto...|Bulk/Distribution...|Commercial Property|  Wake|     134156.0|        84| BULK/DIST|      RALEIGH| 27617|      ALL|BROADSTONE SOE RA...|http://services.w...|http://services.w...|      null| 414087.7843017578|  2583.01170875462|\"{\"\"type\"\": \"\"Pol...|35.9003734086,-78...|\n",
      "|075502764026|0755764026|0255778|HIGHWOODS SERVICE...|                null|3100 SMOKETREE CT...|RALEIGH NC 27604-...|                null|          0 EVANS RD|          3.01329314|                3.39|           0|      null|        null|       EVANS|        RD|        null|Commercial|     C|              1|         0|LO5A HIGHWOOD PRO...|    5A|      0.0|1209663.0|          0.0|                null|           0.0|                null|  008316|   00049|    CAR|     null|    CA|      null|      Ca|   1020.0|  9000.0|  9900.0|   9000.0|6200.0|      GCP|        null|         Corporation|No Human Or Uncla...|Unclassifiable fu...|        No structure|Commercial Property|  Wake|          0.0|      null|      null|         CARY| 27513|      ALL|HIGHWOODS SERVICE...|http://services.w...|http://services.w...|      null|131259.08532714844|2027.8473140748163|\"{\"\"type\"\": \"\"Pol...|35.8273222562,-78...|\n",
      "|079001185350|0790185350|0004077|  MAANI & PAARI, LLC|                null|6305 LAKE WHEELER RD|RALEIGH NC 27603-...|                null|6305 LAKE WHEELER RD|   6.513846179999999|   6.509999999999999|        6305|      null|        null|LAKE WHEELER|        RD|        null|Commercial|     C|              3|         2|LO1-R MAANI & PAA...|   1-R| 431715.0| 360727.0|          0.0|                null|      768900.0|2017-02-08T20:00:...|  016690|   01952|   null|     null|    WC|      null|      Sw|   1020.0|  3120.0|  3600.0|   2731.0|6200.0|    R-40W|        null|         Corporation|Primarily Goods S...|Warehouse And Sto...|Standard Type War...|Commercial Property|  Wake|      22115.0|        83|   WAREHSE|      RALEIGH| 27603|        E|   LLC MAANI & PAARI|http://services.w...|http://services.w...|      null| 283743.1218261719|3240.5841072362773|\"{\"\"type\"\": \"\"Pol...|35.6957853014,-78...|\n",
      "|074218411230|0742411230|0004367|THOMAS LEE PROPER...|                null|      123 N SALEM ST|  APEX NC 27502-1427|                null|      123 N SALEM ST|          0.12867238|                0.13|         123|      null|           N|       SALEM|        ST|        null|Commercial|     C|              1|         0|123-125-127 N SAL...|  null| 235888.0| 112977.0|          0.0|                null|      400000.0|2016-07-27T22:00:...|  016472|   00969|    APE|     null|    AP|      null|      Wh|   1020.0|  2100.0|  2100.0|   2230.0|6200.0|       B2|        null|         Corporation|            Shopping|Retail Sales Or S...|Standalone Store ...|Commercial Property|  Wake|       5532.0|        47|  SNGL TEN|         APEX| 27502|      ALL|THOMAS LEE PROPER...|http://services.w...|http://services.w...|      null|5604.9854736328125|360.27494313794415|\"{\"\"type\"\": \"\"Pol...|35.7315492956,-78...|\n",
      "|065604935516|0656935516|0256006|VEASEY, CHRISTOPH...|                null|        6009 BURT RD|FUQUAY VARINA NC ...|                null|  969 S JUDD PKWY SE|          0.17440781|                0.17|         969|      null|           S|        JUDD|      PKWY|          SE|Commercial|     C|              1|         0|LO1B BILLIE M VEA...|    1B| 123303.0|  37321.0|          0.0|                null|           0.0|                null|  013298|   01789|    FUQ|     null|    FV|      null|      Mi|   1010.0|  2100.0|  2100.0|   2230.0|6200.0|       GC|        null|Individual Ownership|            Shopping|Retail Sales Or S...|Standalone Store ...|Commercial Property|  Wake|       1560.0|        47|  SNGL TEN|FUQUAY VARINA| 27526|      WSE|CHRISTOPHER S VEASEY|http://services.w...|http://services.w...|      null|  7597.21044921875| 350.8487133680451|\"{\"\"type\"\": \"\"Pol...|35.5731055579,-78...|\n",
      "|075702560112|0757560112|0256505|BLUE BELL CREAMER...|                null|         PO BOX 1807|BRENHAM TX 77834-...|                null|      5009 NELSON RD|   2.986192599999999|                2.99|        5009|      null|        null|      NELSON|        RD|        null|Commercial|     C|              2|         0|LO2A BLUE BELL CR...|    2A| 984284.0| 300864.0|     450000.0|2012-12-06T20:00:...|           0.0|                null|  015051|   00269|    CAR|     null|    CA|      null|      Ce|   1020.0|  2300.0|  2421.0|   2100.0|6200.0|    ORDCU|        null|         Corporation|   Office Activities|Office And Admini...|Office Or Bank Bu...|Commercial Property|  Wake|      13156.0|        34| OFC GROSS|  MORRISVILLE| 27560|      ALL|BLUE BELL CREAMER...|http://services.w...|http://services.w...|      null|130096.03564453125|1485.0913957904277|\"{\"\"type\"\": \"\"Pol...|35.8823763106,-78...|\n",
      "+------------+----------+-------+--------------------+--------------------+--------------------+--------------------+--------------------+--------------------+--------------------+--------------------+------------+----------+------------+------------+----------+------------+----------+------+---------------+----------+--------------------+------+---------+---------+-------------+--------------------+--------------+--------------------+--------+--------+-------+---------+------+----------+--------+---------+--------+--------+---------+------+---------+------------+--------------------+--------------------+--------------------+--------------------+-------------------+------+-------------+----------+----------+-------------+------+---------+--------------------+--------------------+--------------------+----------+------------------+------------------+--------------------+--------------------+\n",
      "only showing top 20 rows\n",
      "\n"
     ]
    }
   ],
   "source": [
    "df.show()"
   ]
  },
  {
   "cell_type": "code",
   "execution_count": 10,
   "metadata": {},
   "outputs": [
    {
     "name": "stdout",
     "output_type": "stream",
     "text": [
      "+-------+--------------------+--------------------+--------------+\n",
      "| Realid|               Owner|            Location|TotalSaleValue|\n",
      "+-------+--------------------+--------------------+--------------+\n",
      "|0001130|HILLCREST RALEIGH...|  3830 BLUE RIDGE RD|    15500000.0|\n",
      "|0001241|HSF RALEIGH INVES...|   4100 WESTERN BLVD|     1471000.0|\n",
      "|0002148|CONTECH CONSTRUCT...| 6115 CHAPEL HILL RD|      595000.0|\n",
      "|0002340|    ARVIN, JAMES LEE|5839 FAYETTEVILLE RD|           0.0|\n",
      "|0002443|    T R ASHWORTH INC|       124 S MAIN ST|           0.0|\n",
      "|0002462|SAMPSON BLADEN OI...|      3309 DRAKE CIR|      513000.0|\n",
      "|0002424|  ASHWORTH HEIRS LLC|       210 S MAIN ST|           0.0|\n",
      "|0002695|JEFFRIES PROPERTY...|       206 S MAIN ST|       75000.0|\n",
      "|0002920|    B & F PROPERTIES|2524 HILLSBOROUGH ST|           0.0|\n",
      "|0003482|  STRADER, STEPHEN M|    111 S FUQUAY AVE|       60000.0|\n",
      "|0003924|      SKS PROPERTIES|2414 HILLSBOROUGH ST|       90000.0|\n",
      "|0003676| LLOYD L NICHOLS LLC|   6600 MT HERMAN RD|           0.0|\n",
      "|0004057|NORTH ACADEMY ASS...|    315 N ACADEMY ST|     1869500.0|\n",
      "|0255776|FIRST CITIZENS BA...|       2205 EVANS RD|           0.0|\n",
      "|0255782|BROADSTONE SOE RA...|10800 WORLD TRADE...|    10500000.0|\n",
      "|0255778|HIGHWOODS SERVICE...|          0 EVANS RD|           0.0|\n",
      "|0004077|  MAANI & PAARI, LLC|6305 LAKE WHEELER RD|      768900.0|\n",
      "|0004367|THOMAS LEE PROPER...|      123 N SALEM ST|      400000.0|\n",
      "|0256006|VEASEY, CHRISTOPH...|  969 S JUDD PKWY SE|           0.0|\n",
      "|0256505|BLUE BELL CREAMER...|      5009 NELSON RD|           0.0|\n",
      "+-------+--------------------+--------------------+--------------+\n",
      "only showing top 20 rows\n",
      "\n"
     ]
    }
   ],
   "source": [
    "df.select(['Realid','Owner','Location','TotalSaleValue']).show()"
   ]
  },
  {
   "cell_type": "code",
   "execution_count": 16,
   "metadata": {},
   "outputs": [],
   "source": [
    "#Get couple of rows using head\n",
    "lst = df.select(['Realid','Owner','Location','TotalSaleValue']).head(2)"
   ]
  },
  {
   "cell_type": "code",
   "execution_count": 21,
   "metadata": {},
   "outputs": [
    {
     "data": {
      "text/plain": [
       "list"
      ]
     },
     "execution_count": 21,
     "metadata": {},
     "output_type": "execute_result"
    }
   ],
   "source": [
    "#What type does it return? \n",
    "type(lst)"
   ]
  },
  {
   "cell_type": "code",
   "execution_count": 22,
   "metadata": {},
   "outputs": [
    {
     "data": {
      "text/plain": [
       "pyspark.sql.types.Row"
      ]
     },
     "execution_count": 22,
     "metadata": {},
     "output_type": "execute_result"
    }
   ],
   "source": [
    "type(lst[0])"
   ]
  },
  {
   "cell_type": "code",
   "execution_count": 25,
   "metadata": {},
   "outputs": [],
   "source": [
    "df_fewcol = df.select(['Realid','Owner','Location','TotalSaleValue'])"
   ]
  },
  {
   "cell_type": "code",
   "execution_count": 28,
   "metadata": {},
   "outputs": [
    {
     "name": "stdout",
     "output_type": "stream",
     "text": [
      "+-------+--------------------+--------------------+--------------+\n",
      "| Realid|               Owner|            Location|TotalSaleValue|\n",
      "+-------+--------------------+--------------------+--------------+\n",
      "|0001130|HILLCREST RALEIGH...|  3830 BLUE RIDGE RD|    15500000.0|\n",
      "|0001241|HSF RALEIGH INVES...|   4100 WESTERN BLVD|     1471000.0|\n",
      "|0002148|CONTECH CONSTRUCT...| 6115 CHAPEL HILL RD|      595000.0|\n",
      "|0002340|    ARVIN, JAMES LEE|5839 FAYETTEVILLE RD|           0.0|\n",
      "|0002443|    T R ASHWORTH INC|       124 S MAIN ST|           0.0|\n",
      "|0002462|SAMPSON BLADEN OI...|      3309 DRAKE CIR|      513000.0|\n",
      "|0002424|  ASHWORTH HEIRS LLC|       210 S MAIN ST|           0.0|\n",
      "|0002695|JEFFRIES PROPERTY...|       206 S MAIN ST|       75000.0|\n",
      "|0002920|    B & F PROPERTIES|2524 HILLSBOROUGH ST|           0.0|\n",
      "|0003482|  STRADER, STEPHEN M|    111 S FUQUAY AVE|       60000.0|\n",
      "|0003924|      SKS PROPERTIES|2414 HILLSBOROUGH ST|       90000.0|\n",
      "|0003676| LLOYD L NICHOLS LLC|   6600 MT HERMAN RD|           0.0|\n",
      "|0004057|NORTH ACADEMY ASS...|    315 N ACADEMY ST|     1869500.0|\n",
      "|0255776|FIRST CITIZENS BA...|       2205 EVANS RD|           0.0|\n",
      "|0255782|BROADSTONE SOE RA...|10800 WORLD TRADE...|    10500000.0|\n",
      "|0255778|HIGHWOODS SERVICE...|          0 EVANS RD|           0.0|\n",
      "|0004077|  MAANI & PAARI, LLC|6305 LAKE WHEELER RD|      768900.0|\n",
      "|0004367|THOMAS LEE PROPER...|      123 N SALEM ST|      400000.0|\n",
      "|0256006|VEASEY, CHRISTOPH...|  969 S JUDD PKWY SE|           0.0|\n",
      "|0256505|BLUE BELL CREAMER...|      5009 NELSON RD|           0.0|\n",
      "+-------+--------------------+--------------------+--------------+\n",
      "only showing top 20 rows\n",
      "\n"
     ]
    }
   ],
   "source": [
    "df_fewcol.show()"
   ]
  },
  {
   "cell_type": "code",
   "execution_count": 33,
   "metadata": {},
   "outputs": [
    {
     "name": "stdout",
     "output_type": "stream",
     "text": [
      "+-------+--------------+--------------------+\n",
      "| Realid|TotalSaleValue|TotalSaleAppreciated|\n",
      "+-------+--------------+--------------------+\n",
      "|0001130|    15500000.0|              1.86E7|\n",
      "|0001241|     1471000.0|           1765200.0|\n",
      "|0002148|      595000.0|            714000.0|\n",
      "|0002340|           0.0|                 0.0|\n",
      "|0002443|           0.0|                 0.0|\n",
      "|0002462|      513000.0|            615600.0|\n",
      "|0002424|           0.0|                 0.0|\n",
      "|0002695|       75000.0|             90000.0|\n",
      "|0002920|           0.0|                 0.0|\n",
      "|0003482|       60000.0|             72000.0|\n",
      "|0003924|       90000.0|            108000.0|\n",
      "|0003676|           0.0|                 0.0|\n",
      "|0004057|     1869500.0|           2243400.0|\n",
      "|0255776|           0.0|                 0.0|\n",
      "|0255782|    10500000.0|              1.26E7|\n",
      "|0255778|           0.0|                 0.0|\n",
      "|0004077|      768900.0|            922680.0|\n",
      "|0004367|      400000.0|            480000.0|\n",
      "|0256006|           0.0|                 0.0|\n",
      "|0256505|           0.0|                 0.0|\n",
      "+-------+--------------+--------------------+\n",
      "only showing top 20 rows\n",
      "\n"
     ]
    }
   ],
   "source": [
    "### Add a calculated column\n",
    "df_fewcol.withColumn('TotalSaleAppreciated', df['TotalSaleValue'] * 1.20) \\\n",
    "    .select(['Realid','TotalSaleValue','TotalSaleAppreciated' ]).show()"
   ]
  },
  {
   "cell_type": "markdown",
   "metadata": {},
   "source": [
    "### TempView"
   ]
  },
  {
   "cell_type": "code",
   "execution_count": 36,
   "metadata": {},
   "outputs": [],
   "source": [
    "df_fewcol.createOrReplaceTempView('re_props')"
   ]
  },
  {
   "cell_type": "code",
   "execution_count": 39,
   "metadata": {},
   "outputs": [],
   "source": [
    "results = spark.sql(\"Select * FROM re_props WHERE TotalSaleValue > 500000\")"
   ]
  },
  {
   "cell_type": "code",
   "execution_count": 40,
   "metadata": {},
   "outputs": [
    {
     "name": "stdout",
     "output_type": "stream",
     "text": [
      "+-------+--------------------+--------------------+--------------+\n",
      "| Realid|               Owner|            Location|TotalSaleValue|\n",
      "+-------+--------------------+--------------------+--------------+\n",
      "|0001130|HILLCREST RALEIGH...|  3830 BLUE RIDGE RD|    15500000.0|\n",
      "|0001241|HSF RALEIGH INVES...|   4100 WESTERN BLVD|     1471000.0|\n",
      "|0002148|CONTECH CONSTRUCT...| 6115 CHAPEL HILL RD|      595000.0|\n",
      "|0002462|SAMPSON BLADEN OI...|      3309 DRAKE CIR|      513000.0|\n",
      "|0004057|NORTH ACADEMY ASS...|    315 N ACADEMY ST|     1869500.0|\n",
      "|0255782|BROADSTONE SOE RA...|10800 WORLD TRADE...|    10500000.0|\n",
      "|0004077|  MAANI & PAARI, LLC|6305 LAKE WHEELER RD|      768900.0|\n",
      "|0157584|     ALL STOR NC LLC|940 MORRISVILLE PKWY|      868000.0|\n",
      "|0006680|FTPA STORAGE APEX...|  1538 E WILLIAMS ST|     5300000.0|\n",
      "|0007123|BRIAN HAMILTON PE...|      100 N SALEM ST|     1600000.0|\n",
      "|0258735| LINK PROPERTIES LLC|   1000 GOODWORTH DR|      695100.0|\n",
      "|0258733|       NJ AND TE LLC|   1020 GOODWORTH DR|     1080000.0|\n",
      "|0008089|CNL RETIREMENT SU...|4801 EDWARDS MILL RD|     5000000.0|\n",
      "|0258998|     MOORE, LOUISE B|  1757 W WILLIAMS ST|      800000.0|\n",
      "|0159671|     DAIMLER WAY LLC|    6201 DAIMLER WAY|      650000.0|\n",
      "|0159982|PENROSE HOLDINGS LLC|    2001 WESTON PKWY|      775000.0|\n",
      "|0266880|          MONRO, INC|7931 FAYETTEVILLE RD|     1440000.0|\n",
      "|0160335|LANDANE PROPERTIE...|   8200 CREEDMOOR RD|      665000.0|\n",
      "|0267695| HUH & LIM GROUP LLC|      2310 WALNUT ST|     2600000.0|\n",
      "|0011875|BOULDIN BALL INVE...|    610 W CHATHAM ST|      560000.0|\n",
      "+-------+--------------------+--------------------+--------------+\n",
      "only showing top 20 rows\n",
      "\n"
     ]
    }
   ],
   "source": [
    "results.show()"
   ]
  },
  {
   "cell_type": "code",
   "execution_count": null,
   "metadata": {},
   "outputs": [],
   "source": []
  }
 ],
 "metadata": {
  "kernelspec": {
   "display_name": "Python 3",
   "language": "python",
   "name": "python3"
  },
  "language_info": {
   "codemirror_mode": {
    "name": "ipython",
    "version": 3
   },
   "file_extension": ".py",
   "mimetype": "text/x-python",
   "name": "python",
   "nbconvert_exporter": "python",
   "pygments_lexer": "ipython3",
   "version": "3.6.8"
  }
 },
 "nbformat": 4,
 "nbformat_minor": 2
}
